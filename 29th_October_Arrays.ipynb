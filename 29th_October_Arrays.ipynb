{
  "nbformat": 4,
  "nbformat_minor": 0,
  "metadata": {
    "colab": {
      "provenance": []
    },
    "kernelspec": {
      "name": "python3",
      "display_name": "Python 3"
    },
    "language_info": {
      "name": "python"
    }
  },
  "cells": [
    {
      "cell_type": "code",
      "execution_count": 6,
      "metadata": {
        "colab": {
          "base_uri": "https://localhost:8080/"
        },
        "id": "rhX_mMxwc_kz",
        "outputId": "772d0e7b-67f2-4dba-9687-b03bb0b84749"
      },
      "outputs": [
        {
          "output_type": "stream",
          "name": "stdout",
          "text": [
            "true\n"
          ]
        }
      ],
      "source": [
        "#1. Given an array, check if it contains any duplicates or not.\n",
        "arr=[1,2,4,2,5,9]\n",
        "\n",
        "for i in range(0,len(arr)):\n",
        "  for j in range(i+1,len(arr)):\n",
        "    if(arr[i]==arr[j]):\n",
        "      print(\"true\")\n",
        "      break\n"
      ]
    },
    {
      "cell_type": "code",
      "source": [
        "#2. Given an array and an integer k, rotate the array to the right by k steps.\n",
        "arr=[1,2,3,4,5,6,7]\n",
        "k=3\n",
        "ar=[0,0,0,0,0,0,0]\n",
        "for i in range(0,len(arr)):\n",
        "  if(i+k>=len(arr)):\n",
        "    ar[i+k-len(arr)]=arr[i]\n",
        "  else:\n",
        "    ar[i+k]=arr[i]\n",
        "print(ar)"
      ],
      "metadata": {
        "colab": {
          "base_uri": "https://localhost:8080/"
        },
        "id": "Ex2L9fpvd3l8",
        "outputId": "88bc204f-4b6d-42f3-da2f-d9cb3775f2f7"
      },
      "execution_count": 13,
      "outputs": [
        {
          "output_type": "stream",
          "name": "stdout",
          "text": [
            "[5, 6, 7, 1, 2, 3, 4]\n"
          ]
        }
      ]
    },
    {
      "cell_type": "code",
      "source": [
        "#3. Reverse the given array in-place, means without using any extra data structure.\n",
        "arr = [2, 4, 5, 7, 9, 12]\n",
        "for i in range(0,int(len(arr)/2)):\n",
        "  temp=arr[i]\n",
        "  arr[i]=arr[len(arr)-i-1]\n",
        "  arr[len(arr)-i-1]=temp\n",
        "print(arr)\n"
      ],
      "metadata": {
        "colab": {
          "base_uri": "https://localhost:8080/"
        },
        "id": "tDoGY7YIfOyc",
        "outputId": "cbedafae-d88b-44c3-a7ec-dbbd1743d419"
      },
      "execution_count": 22,
      "outputs": [
        {
          "output_type": "stream",
          "name": "stdout",
          "text": [
            "[12, 9, 7, 5, 4, 2]\n"
          ]
        }
      ]
    },
    {
      "cell_type": "code",
      "source": [
        "#4. Given an array of integers, find the maximum element in an array\n",
        "arr=[10,5,20,8,15]\n",
        "max=arr[0]\n",
        "for i in range(0,len(arr)):\n",
        "  if(max<arr[i]):\n",
        "    max=arr[i]\n",
        "print(max,\"maximum\")"
      ],
      "metadata": {
        "colab": {
          "base_uri": "https://localhost:8080/"
        },
        "id": "A2V32-Ylgs57",
        "outputId": "a3ff6209-6845-4daf-a4a3-ae8ce4059606"
      },
      "execution_count": 71,
      "outputs": [
        {
          "output_type": "stream",
          "name": "stdout",
          "text": [
            "20 maximum\n"
          ]
        }
      ]
    },
    {
      "cell_type": "code",
      "source": [
        "#5. Given a sorted array, remove the duplicate element without using any extra data structure\n",
        "arr = [1, 1, 2, 2, 2, 3, 3, 4, 4, 4, 5, 5]\n",
        "j=1\n",
        "\n",
        "for i in range(0,len(arr)-1):\n",
        "  if(arr[i]!=arr[i+1]):\n",
        "    arr[j]=arr[i+1]\n",
        "    j=j+1\n",
        "\n",
        "print(arr[0:j])\n",
        "\n",
        ""
      ],
      "metadata": {
        "colab": {
          "base_uri": "https://localhost:8080/"
        },
        "id": "9XQ5xwL7iFJn",
        "outputId": "e0c274e9-e03f-4949-c981-2048534133b6"
      },
      "execution_count": 78,
      "outputs": [
        {
          "output_type": "stream",
          "name": "stdout",
          "text": [
            "[1, 2, 3, 4, 5]\n"
          ]
        }
      ]
    },
    {
      "cell_type": "code",
      "source": [
        "\n",
        "\n",
        "\n",
        "\n"
      ],
      "metadata": {
        "colab": {
          "base_uri": "https://localhost:8080/"
        },
        "id": "cDKcpxWhi9DC",
        "outputId": "9acdcaca-9035-4dc1-8cb0-67fceb1f0e62"
      },
      "execution_count": 36,
      "outputs": [
        {
          "output_type": "stream",
          "name": "stdout",
          "text": [
            "[1, 2, 3, 4, 5]\n"
          ]
        }
      ]
    },
    {
      "cell_type": "code",
      "source": [],
      "metadata": {
        "colab": {
          "base_uri": "https://localhost:8080/"
        },
        "id": "OGyYJcTO5XTg",
        "outputId": "c5fd7512-a1aa-4e37-a930-f6d8133460b2"
      },
      "execution_count": 42,
      "outputs": [
        {
          "output_type": "stream",
          "name": "stdout",
          "text": [
            "[1, 2, 3, 4, 5]\n"
          ]
        }
      ]
    },
    {
      "cell_type": "code",
      "source": [],
      "metadata": {
        "id": "1MCaH_cp5gcm"
      },
      "execution_count": null,
      "outputs": []
    }
  ]
}