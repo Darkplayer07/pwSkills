{
  "nbformat": 4,
  "nbformat_minor": 0,
  "metadata": {
    "colab": {
      "provenance": []
    },
    "kernelspec": {
      "name": "python3",
      "display_name": "Python 3"
    },
    "language_info": {
      "name": "python"
    }
  },
  "cells": [
    {
      "cell_type": "code",
      "execution_count": 6,
      "metadata": {
        "id": "aowUf1PMKZXh",
        "colab": {
          "base_uri": "https://localhost:8080/"
        },
        "outputId": "acafd326-073e-404f-d803-7e89cb5fec15"
      },
      "outputs": [
        {
          "output_type": "stream",
          "name": "stdout",
          "text": [
            "20\n",
            "30\n"
          ]
        }
      ],
      "source": [
        "#TOPIC: Python Basics Variable\n",
        "#1\n",
        "x=30\n",
        "y=20\n",
        "x=x+y\n",
        "y=x-y\n",
        "x=x-y\n",
        "\n",
        "print(x)\n",
        "print(y)\n"
      ]
    },
    {
      "cell_type": "code",
      "source": [
        "#2\n",
        "x=float(input(\"length\"))\n",
        "y=float(input(\"width\"))\n",
        "\n",
        "print(str(x*y)+\"is the area\")"
      ],
      "metadata": {
        "id": "I0QAsq-zKdd9",
        "colab": {
          "base_uri": "https://localhost:8080/"
        },
        "outputId": "06da23fa-6f5b-446d-b1ca-70100eaeec1e"
      },
      "execution_count": 8,
      "outputs": [
        {
          "output_type": "stream",
          "name": "stdout",
          "text": [
            "length5\n",
            "width5\n",
            "25.0is the area\n"
          ]
        }
      ]
    },
    {
      "cell_type": "code",
      "source": [
        "#3\n",
        "x=float(input(\"enter celcius\"))\n",
        "print(str((x*9/5)+32)+\"is the f\")"
      ],
      "metadata": {
        "id": "CkGutT30Kq7J",
        "outputId": "7dbb1079-4fd3-4efa-cb06-2f20d74f3f28",
        "colab": {
          "base_uri": "https://localhost:8080/"
        }
      },
      "execution_count": 9,
      "outputs": [
        {
          "output_type": "stream",
          "name": "stdout",
          "text": [
            "enter celcius0\n",
            "32.0is the f\n"
          ]
        }
      ]
    },
    {
      "cell_type": "code",
      "source": [
        "#TOPIC: String Based Questions\n",
        "#1\n",
        "s=str(input(\"enter the string\"))\n",
        "print(\"the length is \",len(s))\n"
      ],
      "metadata": {
        "colab": {
          "base_uri": "https://localhost:8080/"
        },
        "outputId": "fad9d226-9388-4a9e-acac-eb9602997bd8",
        "id": "IM9q0YKTESnB"
      },
      "execution_count": 13,
      "outputs": [
        {
          "output_type": "stream",
          "name": "stdout",
          "text": [
            "enter the stringddd\n",
            "the length is  3\n"
          ]
        }
      ]
    },
    {
      "cell_type": "code",
      "source": [
        "#2\n",
        "s=str(input(\"enter the string\"))\n",
        "a=0\n",
        "for i in s[0:len(s):1]:\n",
        "    if(i=='a'or i=='e'or i=='i'or i=='o'or i=='u'):\n",
        "      a=a+1\n",
        "print(\"no of vowels\",a)\n",
        "\n",
        "\n"
      ],
      "metadata": {
        "colab": {
          "base_uri": "https://localhost:8080/"
        },
        "id": "hx93G640BAs0",
        "outputId": "3f1aeea2-eb70-4717-e9f8-d5e37cbbac00"
      },
      "execution_count": 34,
      "outputs": [
        {
          "output_type": "stream",
          "name": "stdout",
          "text": [
            "enter the stringaieouvb\n",
            "no of vowels 5\n"
          ]
        }
      ]
    },
    {
      "cell_type": "code",
      "source": [
        "#3\n",
        "s=str(input(\"enter the string\"))\n",
        "sr=s[-1:-(len(s)+1):-1]\n",
        "print(sr)"
      ],
      "metadata": {
        "id": "8yj3CxYYKvHs",
        "colab": {
          "base_uri": "https://localhost:8080/"
        },
        "outputId": "86cbb1ac-4b59-4b8e-8e9a-3fb2f91e85dc"
      },
      "execution_count": 36,
      "outputs": [
        {
          "output_type": "stream",
          "name": "stdout",
          "text": [
            "enter the stringasd\n",
            "dsa\n"
          ]
        }
      ]
    },
    {
      "cell_type": "code",
      "source": [
        "#4\n",
        "s=str(input(\"enter the string\"))\n",
        "sr=s[-1:-(len(s)+1):-1]\n",
        "if sr==s:\n",
        "  print(\"palindrome\")\n",
        "else:\n",
        "  print(\"not palindrome\")\n",
        "\n"
      ],
      "metadata": {
        "colab": {
          "base_uri": "https://localhost:8080/"
        },
        "id": "R_jNZ6N6tSYs",
        "outputId": "d479504d-277f-42cc-9a01-a016ec2b5414"
      },
      "execution_count": 38,
      "outputs": [
        {
          "output_type": "stream",
          "name": "stdout",
          "text": [
            "enter the stringasd\n",
            "not palindrome\n"
          ]
        }
      ]
    },
    {
      "cell_type": "code",
      "source": [
        "#5\n",
        "s=str(input(\"enter the string\"))\n",
        "\n",
        "n=''\n",
        "for i in s[0:len(s):1]:\n",
        "    if(i!=' '):\n",
        "      n+=i\n",
        "print(\"modified string \",n)\n"
      ],
      "metadata": {
        "id": "WNHJoPeBtf02",
        "colab": {
          "base_uri": "https://localhost:8080/"
        },
        "outputId": "e0b19d0f-7663-41ef-a0ba-9550e1ebc0c0"
      },
      "execution_count": 40,
      "outputs": [
        {
          "output_type": "stream",
          "name": "stdout",
          "text": [
            "enter the stringa   s   d d   ddd\n",
            "modified string  asddddd\n"
          ]
        }
      ]
    },
    {
      "cell_type": "code",
      "source": [],
      "metadata": {
        "id": "BkjzVo5dBEIN"
      },
      "execution_count": 25,
      "outputs": []
    }
  ]
}